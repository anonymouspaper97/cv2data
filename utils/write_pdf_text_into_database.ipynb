{
 "cells": [
  {
   "cell_type": "markdown",
   "metadata": {},
   "source": [
    "## Purpose of this Notebook\n",
    "\n",
    "This notebook demonstrates how to extract text content from PDF files and store it into a MySQL database.  \n",
    "It covers the workflow of reading PDF documents, processing the extracted text, and inserting structured information into the database, enabling further analysis and retrieval of document contents.\n"
   ]
  },
  {
   "cell_type": "code",
   "execution_count": null,
   "metadata": {},
   "outputs": [],
   "source": [
    "import mysql.connector\n",
    "import pdfplumber\n",
    "import io\n",
    "import dbtools\n",
    "import asyncio\n",
    "from pypdf import PdfReader\n",
    "from tika import parser"
   ]
  },
  {
   "cell_type": "code",
   "execution_count": null,
   "metadata": {},
   "outputs": [],
   "source": [
    "def connect_to_database():\n",
    "    # Replace with your database connection details\n",
    "    return mysql.connector.connect(\n",
    "        host=\"YOUR_HOST\",\n",
    "        user=\"YOUR_USERNAME\",\n",
    "        password=\"YOUR_PASSWORD\",\n",
    "        database=\"YOUR_DATABASE\",\n",
    "        port=3306\n",
    "    )\n",
    "\n",
    "def pdf_extractor(row_id):\n",
    "\n",
    "    conn = conn = connect_to_database()\n",
    "    cursor = conn.cursor()\n",
    "\n",
    "    \n",
    "    query = f\"SELECT prof_id,raw_file,id FROM raw_files WHERE id = {row_id} AND file_content = 'cv'\"\n",
    "\n",
    "    cursor.execute(query)\n",
    "\n",
    "    # Fetch the results\n",
    "    rows = cursor.fetchall()\n",
    "\n",
    "    # Check if the result is an empty list\n",
    "    if not rows:\n",
    "        s = \"No rows were found with the specified conditions.\"\n",
    "        # Close the cursor and connection\n",
    "        cursor.close()\n",
    "        conn.close()\n",
    "        print(s)\n",
    "        return \n",
    "    \n",
    "    else:\n",
    "        \n",
    "        text = \"\"\n",
    "        \n",
    "        for row in rows:\n",
    "\n",
    "            try:\n",
    "            \n",
    "                pdf_data = row[1]\n",
    "                pdf_stream = io.BytesIO(pdf_data)\n",
    "\n",
    "                raw = parser.from_buffer(pdf_stream)\n",
    "                text = text + raw['content'].strip() + \"\\n\"\n",
    "\n",
    "            \n",
    "            except:\n",
    "\n",
    "                print(f\"error in parsing prof_id:{row[0]} and document_id:{row[2]}\")\n",
    "                \n",
    "        # Close the cursor and connection\n",
    "        cursor.close()\n",
    "        conn.close()\n",
    "        return text"
   ]
  },
  {
   "cell_type": "code",
   "execution_count": null,
   "metadata": {},
   "outputs": [],
   "source": [
    "conn = connect_to_database()\n",
    "cursor = conn.cursor()\n",
    "\n",
    "query = f\"SELECT id FROM raw_files WHERE file_content = 'cv'\"\n",
    "\n",
    "cursor.execute(query)\n",
    "\n",
    "# Fetch the results\n",
    "rows = cursor.fetchall()\n",
    "\n",
    "ids = [row[0] for row in rows]\n",
    "\n",
    "ids = sorted(list(set(ids)))\n",
    "cursor.close()\n",
    "conn.close()"
   ]
  },
  {
   "cell_type": "code",
   "execution_count": null,
   "metadata": {},
   "outputs": [],
   "source": [
    "def update(row_id,text):\n",
    "    conn = connect_to_database()\n",
    "    cursor = conn.cursor()\n",
    "    table_name = \"individual_crawl.raw_files\"\n",
    "    column_name = \"text\" \n",
    "    row_id = row_id\n",
    "    query = f\"UPDATE {table_name} SET {column_name} = %s WHERE id = %s\"\n",
    "\n",
    "  \n",
    "\n",
    "    try:\n",
    "        # Execute the query\n",
    "        cursor.execute(query, (text, row_id))\n",
    "        # Commit the changes\n",
    "        conn.commit()\n",
    "\n",
    "    except mysql.connector.Error as err:\n",
    "        print(f\"\\nid: {row_id} Error: {err}\")\n",
    "        conn.rollback()\n",
    "\n",
    "    finally:\n",
    "        # Close the cursor and connection\n",
    "        cursor.close()\n",
    "        conn.close()"
   ]
  },
  {
   "cell_type": "code",
   "execution_count": null,
   "metadata": {},
   "outputs": [],
   "source": [
    "n = len(ids)\n",
    "for index,row_id in enumerate(ids):\n",
    "    \n",
    "    t = pdf_extractor(row_id)\n",
    "\n",
    "    update(row_id,t)\n",
    "\n",
    "    print(f\"\\r{index}/{n}\" , end=\"\")\n",
    "\n"
   ]
  }
 ],
 "metadata": {
  "kernelspec": {
   "display_name": "base",
   "language": "python",
   "name": "python3"
  },
  "language_info": {
   "codemirror_mode": {
    "name": "ipython",
    "version": 3
   },
   "file_extension": ".py",
   "mimetype": "text/x-python",
   "name": "python",
   "nbconvert_exporter": "python",
   "pygments_lexer": "ipython3",
   "version": "3.10.10"
  }
 },
 "nbformat": 4,
 "nbformat_minor": 2
}
